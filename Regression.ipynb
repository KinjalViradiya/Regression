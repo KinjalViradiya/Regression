{
 "cells": [
  {
   "cell_type": "markdown",
   "metadata": {},
   "source": [
    "# Regression\n",
    "\n",
    "def : a Stastistical aproach to establish the relationship among variables\n",
    "\n",
    "Basically two ways of trainin gany regression model:\n",
    "\n",
    "- `using a direct equation from`  **closed-from equation**\n",
    "- `using iterative optimization approach` (e.g gradient decent , sgd,etc)"
   ]
  },
  {
   "cell_type": "markdown",
   "metadata": {},
   "source": [
    "## Linear Regression\n",
    "example,you are building ML model to identify `whether money makes people happy or not?`\n",
    " [OECD is better life index](https://stats.oecd.org/index.aspx?DataSetCode=BLI) and [GDP per capital](https://www.imf.org/external/pubs/ft/weo/2016/01/weodata/weorept.aspx?pr.x=32&pr.y=8&sy=2015&ey=2015&scsm=1&ssd=1&sort=country&ds=.&br=1&c=512,668,914,672,612,946,614,137,311,962,213,674,911,676,193,548,122,556,912,678,313,181,419,867,513,682,316,684,913,273,124,868,339,921,638,948,514,943,218,686,963,688,616,518,223,728,516,558,918,138,748,196,618,278,624,692,522,694,622,142,156,449,626,564,628,565,228,283,924,853,233,288,632,293,636,566,634,964,238,182,662,453,960,968,423,922,935,714,128,862,611,135,321,716,243,456,248,722,469,942,253,718,642,724,643,576,939,936,644,961,819,813,172,199,132,733,646,184,648,524,915,361,134,362,652,364,174,732,328,366,258,734,656,144,654,146,336,463,263,528,268,923,532,738,944,578,176,537,534,742,536,866,429,369,433,744,178,186,436,925,136,869,343,746,158,926,439,466,916,112,664,111,826,298,542,927,967,846,443,299,917,582,544,474,941,754,446,698,666&s=NGDPDPC&grp=0&a)"
   ]
  },
  {
   "cell_type": "code",
   "execution_count": 4,
   "metadata": {},
   "outputs": [],
   "source": [
    "import numpy as np\n",
    "import pandas as pd\n",
    "import matplotlib.pyplot as plt"
   ]
  },
  {
   "cell_type": "code",
   "execution_count": 5,
   "metadata": {},
   "outputs": [],
   "source": [
    "# loading the dataset\n",
    "oecd_bli = pd.read_csv(\"oecd_bli_2015.csv\", thousands=',')\n",
    "gdp_per_capita = pd.read_csv(\"gdp_per_capita.csv\",thousands=',',delimiter='\\t',\n",
    "                             encoding='latin1', na_values=\"n/a\")"
   ]
  },
  {
   "cell_type": "code",
   "execution_count": 6,
   "metadata": {},
   "outputs": [],
   "source": [
    "# some data cleaning and preprocessing\n",
    "def prepare_country_stats(oecd_bli, gdp_per_capita):\n",
    "    oecd_bli = oecd_bli[oecd_bli[\"INEQUALITY\"]==\"TOT\"]\n",
    "    oecd_bli = oecd_bli.pivot(index=\"Country\", columns=\"Indicator\", values=\"Value\")\n",
    "    gdp_per_capita.rename(columns={\"2015\": \"GDP per capita\"}, inplace=True)\n",
    "    gdp_per_capita.set_index(\"Country\", inplace=True)\n",
    "    full_country_stats = pd.merge(left=oecd_bli, right=gdp_per_capita,\n",
    "                                  left_index=True, right_index=True)\n",
    "    full_country_stats.sort_values(by=\"GDP per capita\", inplace=True)\n",
    "    remove_indices = [0, 1, 6, 8, 33, 34, 35]\n",
    "    keep_indices = list(set(range(36)) - set(remove_indices))\n",
    "    return full_country_stats[[\"GDP per capita\", 'Life satisfaction']].iloc[keep_indices]"
   ]
  },
  {
   "cell_type": "code",
   "execution_count": 7,
   "metadata": {},
   "outputs": [],
   "source": [
    "# Prepare the data\n",
    "country_stats = prepare_country_stats(oecd_bli, gdp_per_capita)\n",
    "X = np.c_[country_stats[\"GDP per capita\"]]\n",
    "y = np.c_[country_stats[\"Life satisfaction\"]]"
   ]
  },
  {
   "cell_type": "code",
   "execution_count": 8,
   "metadata": {},
   "outputs": [
    {
     "data": {
      "image/png": "[encoded data removed]",
      "text/plain": [
       "<Figure size 432x288 with 1 Axes>"
      ]
     },
     "metadata": {
      "needs_background": "light"
     },
     "output_type": "display_data"
    }
   ],
   "source": [
    "# plot it out\n",
    "import matplotlib.pyplot as plt\n",
    "\n",
    "country_stats.plot(kind=\"scatter\", x=\"GDP per capita\", y=\"Life satisfaction\")\n",
    "plt.show()"
   ]
  },
  {
   "cell_type": "markdown",
   "metadata": {},
   "source": [
    "general equation for any straight line y = c + mx\n",
    "\n",
    "$$life_satisfaction=\\theta_{θ}+\\theta_{1}∗GDP\\_per\\_capita$$\n",
    " \n",
    "where  $\\theta_{θ}$  and  $\\theta_{θ}$  are our ML model's parameters (i.e., Life satisfaction & GDP per capita)\n",
    "\n",
    "**how to measure the performance for this ML model that we'll build?**"
   ]
  },
  {
   "cell_type": "markdown",
   "metadata": {},
   "source": [
    "## cost function / utility function / fitness function\n",
    "for most regression, the cost function is usually the measure of distance b/w the predicted value and the actual value.\n",
    "\n",
    "various ways to evaluate the performance of a model:\n",
    "\n",
    "**Root Mean Squared Error (RMSE)** RMSE basically gives an idea of how much the error your ML system is making in its prediction.\n",
    "$$RMSE(X,f)=\\sqrt{\\frac{1}{m}\\sum_{i=1}^m(f(x^i)−y^i)^2}$$\n",
    "\n",
    "where m : total no. of instances\n",
    "f: hypothesis function/Model prediction function\n",
    "f(x): predicted value after going through prediction function\n",
    "y: actual target value\n",
    "$x^i :  i^{th}$  element of the feature vector x"
   ]
  },
  {
   "cell_type": "markdown",
   "metadata": {},
   "source": [
    "**Mean Squared Error(MSE)** practically similar to RMSE except for thes square root\n",
    "\n",
    "**Mean Absolute Error(MAE)** gives you the same idea of how much your predicted values is deviating from the actual values.\n",
    "`the diffrence is in the way the distances are calculated in RMSE\\MSE and MAE`\n",
    "\n",
    "$$MAE(X,f)=\\frac{1}{m}\\sum_{i=1}^{m}|f(x^i)-y^i)|$$\n",
    "\n",
    "RMSE basically uses `Euclidean distance approach`. Also called as `l2 norm of measuring distances`.\n",
    "MAE uses `Manhattan distance approach`. Also called as `l1 norms of measuring distances`.\n",
    "\n",
    "There are other higher order norms of measuring these distances and as we go along increasing the norm (something like  $l_k$  norm ) these functions start focusing more on larger values and kind of start ignoring the smaller values\n",
    "\n",
    "therefore, **RMSE is more sensitive to outliers than MAE**\n",
    "\n",
    "[NOTE] when we have exponentially less outliers, then even RMSE performs wel"
   ]
  },
  {
   "cell_type": "code",
   "execution_count": 16,
   "metadata": {},
   "outputs": [
    {
     "data": {
      "text/plain": [
       "LinearRegression(copy_X=True, fit_intercept=True, n_jobs=None,\n",
       "         normalize=False)"
      ]
     },
     "execution_count": 16,
     "metadata": {},
     "output_type": "execute_result"
    }
   ],
   "source": [
    "from sklearn.linear_model import LinearRegression\n",
    "model= LinearRegression()\n",
    "model.fit(X,y)"
   ]
  },
  {
   "cell_type": "code",
   "execution_count": 17,
   "metadata": {},
   "outputs": [
    {
     "data": {
      "text/plain": [
       "array([5.38293324])"
      ]
     },
     "execution_count": 17,
     "metadata": {},
     "output_type": "execute_result"
    }
   ],
   "source": [
    "# to get intercept value\n",
    "t0 = model.intercept_\n",
    "t0"
   ]
  },
  {
   "cell_type": "code",
   "execution_count": 18,
   "metadata": {},
   "outputs": [
    {
     "data": {
      "text/plain": [
       "array([[3.88236996e-05]])"
      ]
     },
     "execution_count": 18,
     "metadata": {},
     "output_type": "execute_result"
    }
   ],
   "source": [
    "# to get coefficient values\n",
    "t1 = model.coef_\n",
    "t1"
   ]
  },
  {
   "cell_type": "markdown",
   "metadata": {},
   "source": [
    "so for our case, the most optimal parameter would be  $\\theta_{0}$=5.3829  and  $\\theta_{1}$=3.8823x$10^{-5}$"
   ]
  },
  {
   "cell_type": "code",
   "execution_count": 19,
   "metadata": {},
   "outputs": [
    {
     "data": {
      "text/plain": [
       "array([[5.44959353]])"
      ]
     },
     "execution_count": 19,
     "metadata": {},
     "output_type": "execute_result"
    }
   ],
   "source": [
    "# predicting life satisfaction given some GDP pe capita value\n",
    "\n",
    "some_gdp = [[1717]] # GDP per capita of India in 2016\n",
    "model.predict(some_gdp)"
   ]
  },
  {
   "cell_type": "markdown",
   "metadata": {},
   "source": [
    "## The Normal equation\n",
    "to find the best value for out  θ  that would minimize the cost function to its least, we use a mathematical approach called The Normal Equation\n",
    "\n",
    "$$\\hatθ=(X^T.X)^{−1}.X^T.y$$\n",
    " \n",
    "where  $\\hatθ$ : value that minimizes the cost function<br />\n",
    "X: feature vector<br />\n",
    "y: target value<br />"
   ]
  },
  {
   "cell_type": "code",
   "execution_count": 20,
   "metadata": {},
   "outputs": [],
   "source": [
    "# lets generate some random linear dataset\n",
    "\n",
    "X = 2 * np.random.rand(100,1)\n",
    "y = 4 + 3 * X + np.random.rand(100, 1) "
   ]
  },
  {
   "cell_type": "markdown",
   "metadata": {},
   "source": [
    "this is basicall,\n",
    "$$y=4+3x_0+someNoise$$"
   ]
  },
  {
   "cell_type": "code",
   "execution_count": 23,
   "metadata": {},
   "outputs": [
    {
     "data": {
      "image/png": "[encoded data removed]",
      "text/plain": [
       "<Figure size 432x288 with 1 Axes>"
      ]
     },
     "metadata": {
      "needs_background": "light"
     },
     "output_type": "display_data"
    }
   ],
   "source": [
    "plt.plot(X,y,\"b.\")\n",
    "plt.xlabel(\"$x_1$\",fontsize=12)\n",
    "plt.ylabel(\"$y_1$\",fontsize=12)\n",
    "plt.axis([0,2,0,15])\n",
    "plt.show()"
   ]
  },
  {
   "cell_type": "code",
   "execution_count": 25,
   "metadata": {},
   "outputs": [],
   "source": [
    "X_b = np.c_[np.ones((100, 1)), X] # adding x0 = 1 to each instance\n",
    "theta_best = np.linalg.inv(X_b.T.dot(X_b)).dot(X_b.T).dot(y) # normal eq."
   ]
  },
  {
   "cell_type": "code",
   "execution_count": 26,
   "metadata": {},
   "outputs": [
    {
     "data": {
      "text/plain": [
       "array([[4.47999801],\n",
       "       [3.02674186]])"
      ]
     },
     "execution_count": 26,
     "metadata": {},
     "output_type": "execute_result"
    }
   ],
   "source": [
    "theta_best"
   ]
  },
  {
   "cell_type": "code",
   "execution_count": 28,
   "metadata": {},
   "outputs": [
    {
     "data": {
      "text/plain": [
       "array([[4.47999801],\n",
       "       [7.50673987]])"
      ]
     },
     "execution_count": 28,
     "metadata": {},
     "output_type": "execute_result"
    }
   ],
   "source": [
    "X_new= np.array([[0],[1]])\n",
    "X_new_b= np.c_[np.ones((2,1)),X_new] #adding x0=1 bias to each instance\n",
    "\n",
    "y_predict= X_new_b.dot(theta_best)\n",
    "y_predict"
   ]
  },
  {
   "cell_type": "code",
   "execution_count": 31,
   "metadata": {},
   "outputs": [
    {
     "data": {
      "image/png": "[encoded data removed]",
      "text/plain": [
       "<Figure size 576x432 with 1 Axes>"
      ]
     },
     "metadata": {
      "needs_background": "light"
     },
     "output_type": "display_data"
    }
   ],
   "source": [
    "plt.figure(figsize=(8,6))\n",
    "plt.plot(X_new, y_predict, \"r-\")\n",
    "plt.plot(X, y, \"b.\")\n",
    "plt.axis([0, 1, 0, 15])\n",
    "plt.show()"
   ]
  },
  {
   "cell_type": "markdown",
   "metadata": {},
   "source": [
    "## Gradient Descent:"
   ]
  },
  {
   "cell_type": "markdown",
   "metadata": {},
   "source": [
    "Gradient Descent is basically generic optimizatio algorithm capable of finding the optimal solution to wide range of problems.\n",
    "\n",
    "**[story inside it]** the general idea of GD is to tweak your parameters of a model iteratively so as to minimize its cost function.\n",
    "\n",
    "remember the mountain story [core idea]\n",
    "\n",
    "**what values shoud  θ  have initially?** well we start out filling int random values for our model parameters. this is also called random initialization\n",
    "\n",
    "remember the baby steps the man takes to descent down the hill thats what we call **learning rate**\n",
    "\n",
    "if your learning rate is too small, your model will have to go through many iterations to converge to global minima wherein your cost function is at its least\n",
    "\n",
    "on the other hand, if you set it out to be a large value, chances are that you jump across the valleys, you might even end up at a point thats higher than the value you had initially, this again will more time to train\n",
    "\n",
    "ideally people experiment out with diff diff values for the learning rate.\n",
    "\n",
    "BONUS the MSE is originally a convex function in nature.\n",
    "\n",
    "TIP if you scale your feature vectors to the same scale, you have chances you reaching the minima for your cost function at the eariest."
   ]
  },
  {
   "cell_type": "markdown",
   "metadata": {},
   "source": [
    "## Feature Scaling\n",
    "[core idea] whenever you have numerical attributes all in diff diff ranges (e.g. 10% - 54%, 0.12 to 0.99. 28 to 34324),\n",
    "you would want to bring all these numerical attributes onto the same scale. That's when you do feature scaling.\n",
    "\n",
    "two most common approaches are:\n",
    "\n",
    "Min-Max Scaling : you shift every numerical attirbute b/w a min and a max range.\n",
    "Normalization/ Standard Scaling : you subtract every numerical attirbute with its minimum and then yu divide it out unit variance.\n",
    "$$Z_min−maxscalling=\\frac{x−min(x)}{(max(x)−min(x))}$$\n",
    "\n",
    "```python \n",
    "from sklearn.preprocessing import MinMaxScaler\n",
    "```\n",
    "$$Z_normalization=\\frac{X−μ}{σ}$$\n",
    " \n",
    "```python\n",
    "from sklearn.preprocessing import StandardScaler\n",
    "```\n",
    "where  μ  is mean<br />\n",
    "X: feature vector<br />\n",
    "σ  is standard deviation"
   ]
  },
  {
   "cell_type": "markdown",
   "metadata": {},
   "source": [
    "### Batch Gradient Descent\n",
    "\n",
    "to implement any GD, we first calculate the gradient of the cost function w.r.t the model parameters  θi \n",
    "in other words how much will our cost func change in its magnitude when we slightly change the values  θi .\n",
    "\n",
    "this is actually achieved through partial derivation of the changes in cost function\n",
    "\n",
    "$$\\frac{\\delta}{\\deltaθ_j}MSE(θ)=\\frac{2}{m}\\sum_{i=1}^{m}(\\theta^T.x^i−y^i).x^{i}_j$$\n",
    " \n",
    "gradient vector of the cost function\n",
    "\n",
    "$$\\triangledown_θMSE(θ)=\\frac{2}{m}X^T.(X.\\theta−y)$$\n",
    " \n",
    "this will basically point you to the uphill, but our goal is to descend or reach the minima, therefore, we'll go in the opposite direction of the uphill. Hence, the formula for next gradient descent step will be:\n",
    "\n",
    "$$θ^{nextstep}=θ−\\alpha\\triangledown_θMSE(θ)$$\n",
    " \n",
    "where  $\\alpha\\triangledown_θMSE(θ)$  is your size of the step\n",
    "α  is learning rate\n",
    "\n",
    "\n",
    "## Stochastic Gradient Descent\n",
    "**[core idea]** the problem with BGD, is that it uses the whole training set to compute the gradient at each step, which makes it very slow to train on larger dataset.\n",
    "SGD just picks some random instance in the training set and then computes the gradient of the cost function at that single instance. so less computation in tweaking our model parameters (bcz this is a tweak just across one instance & not the entire parameters of the entire dataset). Hence its faster at reaching you global minima!\n",
    "\n",
    "stochastic means random.\n",
    "SGD more preferred ove BGD\n",
    "\n",
    "## Mini Batch Gradient Descent\n",
    "it just grabs a smalled sub-set of the entire dataset (called batch) and then computes the gradient descent for the cost function for this whole batch before moving ahead."
   ]
  },
  {
   "cell_type": "markdown",
   "metadata": {},
   "source": [
    "# Polynoial Regression\n",
    "\n",
    "$$y= ax^2 + bx+c$$ (2 degree polynomial function)\n",
    "\n",
    "wheneer there is non-linear dataset,you cant straight away fit in a simple linear rule,you then imply polunomial function"
   ]
  },
  {
   "cell_type": "code",
   "execution_count": 36,
   "metadata": {},
   "outputs": [],
   "source": [
    "np.random.seed(25)\n",
    "\n",
    "m=100\n",
    "X=6*np.random.rand(m,1)-3\n",
    "y=0.5* X**2 + X*2+np.random.randn(m,1) #Quadratic equation"
   ]
  },
  {
   "cell_type": "code",
   "execution_count": 37,
   "metadata": {},
   "outputs": [
    {
     "data": {
      "image/png": "[encoded data removed]",
      "text/plain": [
       "<Figure size 432x288 with 1 Axes>"
      ]
     },
     "metadata": {
      "needs_background": "light"
     },
     "output_type": "display_data"
    }
   ],
   "source": [
    "plt.plot(X,y,\"b.\")\n",
    "plt.xlabel(\"X\",fontsize=12)\n",
    "plt.ylabel(\"Y\",fontsize=12)\n",
    "plt.axis([-7,7,-5,10])\n",
    "plt.show()"
   ]
  },
  {
   "cell_type": "code",
   "execution_count": 38,
   "metadata": {},
   "outputs": [],
   "source": [
    "from sklearn.preprocessing import PolynomialFeatures"
   ]
  },
  {
   "cell_type": "code",
   "execution_count": 39,
   "metadata": {},
   "outputs": [],
   "source": [
    "poly_features = PolynomialFeatures(degree=2 ,include_bias=False)\n",
    "X_poly =poly_features.fit_transform(X)"
   ]
  },
  {
   "cell_type": "code",
   "execution_count": 40,
   "metadata": {},
   "outputs": [
    {
     "data": {
      "text/plain": [
       "array([2.22074482])"
      ]
     },
     "execution_count": 40,
     "metadata": {},
     "output_type": "execute_result"
    }
   ],
   "source": [
    "X[0]"
   ]
  },
  {
   "cell_type": "code",
   "execution_count": 41,
   "metadata": {},
   "outputs": [
    {
     "data": {
      "text/plain": [
       "array([2.22074482, 4.93170755])"
      ]
     },
     "execution_count": 41,
     "metadata": {},
     "output_type": "execute_result"
    }
   ],
   "source": [
    "X_poly[0]"
   ]
  },
  {
   "cell_type": "code",
   "execution_count": 42,
   "metadata": {},
   "outputs": [
    {
     "data": {
      "text/plain": [
       "(array([-0.19241814]), array([[2.05422149, 0.52955748]]))"
      ]
     },
     "execution_count": 42,
     "metadata": {},
     "output_type": "execute_result"
    }
   ],
   "source": [
    "lin_reg= LinearRegression()\n",
    "lin_reg.fit(X_poly,y)\n",
    "lin_reg.intercept_,lin_reg.coef_"
   ]
  },
  {
   "cell_type": "code",
   "execution_count": 44,
   "metadata": {},
   "outputs": [
    {
     "data": {
      "image/png": "[encoded data removed]",
      "text/plain": [
       "<Figure size 432x288 with 1 Axes>"
      ]
     },
     "metadata": {
      "needs_background": "light"
     },
     "output_type": "display_data"
    }
   ],
   "source": [
    "# plot it out\n",
    "\n",
    "X_new = np.linspace(-7, 7, 100).reshape(100,1)\n",
    "X_new_poly = poly_features.transform(X_new)\n",
    "y_new = lin_reg.predict(X_new_poly)\n",
    "\n",
    "plt.plot(X, y, \"b.\")\n",
    "plt.plot(X_new, y_new, \"r-\", label=\"Prediction\")\n",
    "plt.xlabel(\"$x1$\", fontsize=12)\n",
    "plt.ylabel(\"$y$\", fontsize=12)\n",
    "plt.axis([-7, 7, -5, 10])\n",
    "plt.legend(loc=\"lower right\", fontsize=12)\n",
    "\n",
    "plt.show()"
   ]
  },
  {
   "cell_type": "code",
   "execution_count": 45,
   "metadata": {},
   "outputs": [
    {
     "name": "stderr",
     "output_type": "stream",
     "text": [
      "C:\\Users\\KINJAL\\.conda\\envs\\py3\\lib\\site-packages\\sklearn\\linear_model\\stochastic_gradient.py:166: FutureWarning: max_iter and tol parameters have been added in SGDRegressor in 0.19. If both are left unset, they default to max_iter=5 and tol=None. If tol is not None, max_iter defaults to max_iter=1000. From 0.21, default max_iter will be 1000, and default tol will be 1e-3.\n",
      "  FutureWarning)\n",
      "C:\\Users\\KINJAL\\.conda\\envs\\py3\\lib\\site-packages\\sklearn\\utils\\validation.py:761: DataConversionWarning: A column-vector y was passed when a 1d array was expected. Please change the shape of y to (n_samples, ), for example using ravel().\n",
      "  y = column_or_1d(y, warn=True)\n"
     ]
    },
    {
     "data": {
      "text/plain": [
       "SGDRegressor(alpha=0.0001, average=False, early_stopping=False, epsilon=0.1,\n",
       "       eta0=0.01, fit_intercept=True, l1_ratio=0.15,\n",
       "       learning_rate='invscaling', loss='squared_loss', max_iter=None,\n",
       "       n_iter=None, n_iter_no_change=5, penalty='l2', power_t=0.25,\n",
       "       random_state=29, shuffle=True, tol=None, validation_fraction=0.1,\n",
       "       verbose=0, warm_start=False)"
      ]
     },
     "execution_count": 45,
     "metadata": {},
     "output_type": "execute_result"
    }
   ],
   "source": [
    "from sklearn.linear_model import SGDRegressor\n",
    "sgd_rg = SGDRegressor(random_state=29)\n",
    "sgd_rg.fit(X_poly,y)"
   ]
  },
  {
   "cell_type": "code",
   "execution_count": 46,
   "metadata": {},
   "outputs": [
    {
     "data": {
      "text/plain": [
       "(array([0.00656419]), array([1.96820554, 0.4744187 ]))"
      ]
     },
     "execution_count": 46,
     "metadata": {},
     "output_type": "execute_result"
    }
   ],
   "source": [
    "sgd_rg.intercept_,sgd_rg.coef_"
   ]
  },
  {
   "cell_type": "code",
   "execution_count": null,
   "metadata": {},
   "outputs": [],
   "source": [
    "sgd_rg."
   ]
  }
 ],
 "metadata": {
  "kernelspec": {
   "display_name": "Python 3",
   "language": "python",
   "name": "python3"
  },
  "language_info": {
   "codemirror_mode": {
    "name": "ipython",
    "version": 3
   },
   "file_extension": ".py",
   "mimetype": "text/x-python",
   "name": "python",
   "nbconvert_exporter": "python",
   "pygments_lexer": "ipython3",
   "version": "3.7.3"
  }
 },
 "nbformat": 4,
 "nbformat_minor": 2
}
